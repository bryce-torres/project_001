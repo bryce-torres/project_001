{
 "cells": [
  {
   "cell_type": "markdown",
   "id": "ab093ebc",
   "metadata": {},
   "source": [
    "Trying out my first jupyter notebook in VSCode.\n",
    "\n",
    "- Downloaded VSCode\n",
    "- Downloaded a csv file\n",
    "- installed GitHub extension\n",
    "- signed into Github account\n",
    "- Published to GitHub\n",
    "- installed Jupyter Notebook extension\n",
    "- installed a Jupyter Kernel\n",
    "- installed pandas through pip install pandas"
   ]
  },
  {
   "cell_type": "code",
   "execution_count": 5,
   "id": "b8c807da",
   "metadata": {},
   "outputs": [
    {
     "name": "stdout",
     "output_type": "stream",
     "text": [
      "Hello World!\n"
     ]
    }
   ],
   "source": [
    "import pandas as pd\n",
    "print(\"Hello World!\")"
   ]
  }
 ],
 "metadata": {
  "kernelspec": {
   "display_name": "Python 3",
   "language": "python",
   "name": "python3"
  },
  "language_info": {
   "codemirror_mode": {
    "name": "ipython",
    "version": 3
   },
   "file_extension": ".py",
   "mimetype": "text/x-python",
   "name": "python",
   "nbconvert_exporter": "python",
   "pygments_lexer": "ipython3",
   "version": "3.13.5"
  }
 },
 "nbformat": 4,
 "nbformat_minor": 5
}
